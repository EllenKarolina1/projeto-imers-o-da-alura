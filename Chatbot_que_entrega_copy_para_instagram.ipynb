{
  "nbformat": 4,
  "nbformat_minor": 0,
  "metadata": {
    "colab": {
      "provenance": [],
      "authorship_tag": "ABX9TyMvn9HNs+M+WfjNo3peZf6o",
      "include_colab_link": true
    },
    "kernelspec": {
      "name": "python3",
      "display_name": "Python 3"
    },
    "language_info": {
      "name": "python"
    }
  },
  "cells": [
    {
      "cell_type": "markdown",
      "metadata": {
        "id": "view-in-github",
        "colab_type": "text"
      },
      "source": [
        "<a href=\"https://colab.research.google.com/github/EllenKarolina1/projeto-imersao-alura-com-google/blob/main/Chatbot_que_entrega_copy_para_instagram.ipynb\" target=\"_parent\"><img src=\"https://colab.research.google.com/assets/colab-badge.svg\" alt=\"Open In Colab\"/></a>"
      ]
    },
    {
      "cell_type": "code",
      "source": [
        "!pip install -q -U google-generativeai"
      ],
      "metadata": {
        "id": "Jx1DsHVNxGA_"
      },
      "execution_count": 31,
      "outputs": []
    },
    {
      "cell_type": "code",
      "source": [
        "import google.generativeai as genai\n",
        "from google.colab import userdata\n",
        "api_key = userdata.get('SECRET_KEY')\n",
        "genai.configure(api_key=api_key)"
      ],
      "metadata": {
        "id": "sR9rhFeGxLFp"
      },
      "execution_count": 55,
      "outputs": []
    },
    {
      "cell_type": "code",
      "source": [
        "for m in genai.list_models():\n",
        "    if 'generateContent' in m.supported_generation_methods:\n",
        "        print(m.name)"
      ],
      "metadata": {
        "colab": {
          "base_uri": "https://localhost:8080/",
          "height": 139
        },
        "id": "3ZKaEpPkxTsT",
        "outputId": "772cbed4-ad82-4002-a1fb-a897b3724aa2"
      },
      "execution_count": 34,
      "outputs": [
        {
          "output_type": "stream",
          "name": "stdout",
          "text": [
            "models/gemini-1.0-pro\n",
            "models/gemini-1.0-pro-001\n",
            "models/gemini-1.0-pro-latest\n",
            "models/gemini-1.0-pro-vision-latest\n",
            "models/gemini-1.5-pro-latest\n",
            "models/gemini-pro\n",
            "models/gemini-pro-vision\n"
          ]
        }
      ]
    },
    {
      "cell_type": "code",
      "source": [
        "generation_config = {\n",
        "    \"candidate_count\": 1,  # Número de sugestões a serem geradas\n",
        "    \"temperature\": 0.5,   # Nível de criatividade (0 = mais conservador, 1 = mais criativo)\n",
        "}\n",
        "\n",
        "safety_settings = {\n",
        "    'HATE': 'BLOCK_NONE',\n",
        "    'HARASSMENT': 'BLOCK_NONE',\n",
        "    'SEXUAL': 'BLOCK_NONE',\n",
        "    'DANGEROUS': 'BLOCK_NONE'\n",
        "}\n",
        "\n",
        "model = genai.GenerativeModel(\n",
        "    model_name='gemini-1.0-pro',\n",
        "    generation_config=generation_config,\n",
        "    safety_settings=safety_settings\n",
        ")"
      ],
      "metadata": {
        "id": "4wEEwSrVxV9R"
      },
      "execution_count": 35,
      "outputs": []
    },
    {
      "cell_type": "code",
      "source": [
        "def obter_informacoes_usuario():\n",
        "    criativo = input(\"Qual criativo (FOTO) você vai usar na sua campanha? \")\n",
        "    intencao = input(\"Qual a intenção dessa campanha (CONVERSÃO ou RELACIONAMENTO)? \")\n",
        "    tom = input(\"Qual o tom da copy você deseja (Divertido, Atencioso, Sério, Profissional)? \")\n",
        "    nicho = input(\"Qual o nicho do seu produto? \")\n",
        "    return criativo, intencao, tom, nicho"
      ],
      "metadata": {
        "id": "AwywFIEixj9R"
      },
      "execution_count": 36,
      "outputs": []
    },
    {
      "cell_type": "code",
      "source": [
        "def gerar_copy(criativo, intencao, tom, nicho):\n",
        "    prompt = f\"Crie uma legenda criativa para um post no Instagram. O criativo é {criativo}, a intenção da campanha é {intencao}, o tom deve ser {tom} e o nicho do produto é {nicho}.\"\n",
        "    response = model.generate_content(prompt)\n",
        "    copy = response.text  # Acessando o texto diretamente\n",
        "    return copy"
      ],
      "metadata": {
        "id": "lquD4_Q6xqan"
      },
      "execution_count": 49,
      "outputs": []
    },
    {
      "cell_type": "code",
      "source": [
        "while True:\n",
        "    criativo, intencao, tom, nicho = obter_informacoes_usuario()\n",
        "    copy = gerar_copy(criativo, intencao, tom, nicho)\n",
        "    print(f\"\\n**Copy Sugerida:**\\n{copy}\")\n",
        "\n",
        "    continuar = input(\"\\nDeseja gerar outra copy? (S/N): \")\n",
        "    if continuar.upper() != 'S':\n",
        "        break"
      ],
      "metadata": {
        "colab": {
          "base_uri": "https://localhost:8080/",
          "height": 332
        },
        "id": "3NmPp7k0xuCR",
        "outputId": "937090b2-18df-4310-81b2-8efb975c6849"
      },
      "execution_count": 56,
      "outputs": [
        {
          "name": "stdout",
          "output_type": "stream",
          "text": [
            "Qual criativo (FOTO) você vai usar na sua campanha? bombom de trufa\n",
            "Qual a intenção dessa campanha (CONVERSÃO ou RELACIONAMENTO)? conversão\n",
            "Qual o tom da copy você deseja (Divertido, Atencioso, Sério, Profissional)? divertido\n",
            "Qual o nicho do seu produto? chocolateria\n",
            "\n",
            "**Copy Sugerida:**\n",
            "🍫 Indulge in the sweetest temptation! 🍫\n",
            "\n",
            "Prepare-se para uma explosão de sabores com nossos bombons de trufa! Cada mordida é um pedaço do paraíso, derretendo na sua boca como um sonho de chocolate.\n",
            "\n",
            "Com uma variedade de sabores irresistíveis, temos algo para todos os paladares. Seja você um amante de chocolate amargo, caramelo cremoso ou frutas deliciosas, nossos bombons vão deixar você querendo mais.\n",
            "\n",
            "Não perca a chance de experimentar o verdadeiro significado da felicidade em forma de chocolate. Peça seus bombons de trufa hoje mesmo e prepare-se para uma experiência inesquecível!\n",
            "\n",
            "#BombonsDeTrufa #ParaísoDoChocolate #IndulgeYourSenses #ExperiênciaDoce\n",
            "\n",
            "Deseja gerar outra copy? (S/N): n\n"
          ]
        }
      ]
    }
  ]
}